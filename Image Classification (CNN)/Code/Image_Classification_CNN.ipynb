{
  "nbformat": 4,
  "nbformat_minor": 0,
  "metadata": {
    "colab": {
      "name": "Project4.ipynb",
      "provenance": [],
      "collapsed_sections": [],
      "toc_visible": true
    },
    "kernelspec": {
      "name": "python3",
      "display_name": "Python 3"
    },
    "language_info": {
      "name": "python"
    },
    "accelerator": "GPU"
  },
  "cells": [
    {
      "cell_type": "markdown",
      "source": [
        "## Εργασία 4η Όραση Υπολογιστών\n",
        "\n",
        "<a href=\"https://cognitiveclass.ai\"><img src = \"https://miro.medium.com/max/1838/1*xFWFKr_v0gOUkXyAg28Aew.png\" width = 500> </a>\n",
        "\n",
        "### Υλοποίηση Αρχιτεκτονικών Δικτύων \n",
        "##### Μαρία Αρετή Γερμανού - 57807 - 7ο Εξάμηνο\n",
        "\n",
        "---\n",
        "\n"
      ],
      "metadata": {
        "id": "pVGRMvAh_NhY"
      }
    },
    {
      "cell_type": "markdown",
      "source": [
        "#### My architectural model:"
      ],
      "metadata": {
        "id": "OCJcAlf1JbnI"
      }
    },
    {
      "cell_type": "code",
      "source": [
        "from google.colab import drive\n",
        "drive.mount('/content/drive')"
      ],
      "metadata": {
        "colab": {
          "base_uri": "https://localhost:8080/"
        },
        "id": "c6gAjh4n69wc",
        "outputId": "e0792724-d458-4fd7-ccfc-8687da6ea12d"
      },
      "execution_count": 2,
      "outputs": [
        {
          "output_type": "stream",
          "name": "stdout",
          "text": [
            "Mounted at /content/drive\n"
          ]
        }
      ]
    },
    {
      "cell_type": "code",
      "metadata": {
        "id": "XCOYuc9LGgKu"
      },
      "source": [
        "import os\n",
        "import zipfile\n",
        "local_zip = '/content/drive/MyDrive/Colab Notebooks/imagedb_btsd.zip'\n",
        "zip_ref = zipfile.ZipFile(local_zip, 'r')\n",
        "zip_ref.extractall('/content')\n",
        "zip_ref.close()"
      ],
      "execution_count": 3,
      "outputs": []
    },
    {
      "cell_type": "code",
      "source": [
        "# Directories from all our training and validation pictures.\n",
        "\n",
        "train_dir = 'imagedb'\n",
        "validation_dir = 'imagedb_test'\n",
        "\n",
        "train_directories = os.listdir(train_dir)\n",
        "val_directories = os.listdir(validation_dir)\n",
        "\n",
        "train_imagedb_dir_ls = []\n",
        "validation_imagedb_dir_ls = []\n",
        "\n",
        "for i in range(len(train_directories)):\n",
        "  train_imagedb_dir_ls.append(train_directories[i])\n",
        "\n",
        "for i in range(len(val_directories)):\n",
        "  validation_imagedb_dir_ls.append(val_directories[i])\n",
        "\n",
        "#print(train_imagedb_dir_ls)\n",
        "#print(train_imagedb_dir_ls)"
      ],
      "metadata": {
        "id": "pf-hjj_KhPHn"
      },
      "execution_count": 4,
      "outputs": []
    },
    {
      "cell_type": "code",
      "source": [
        "# Choosing one of the directories in our lists. For example the first element.\n",
        "\n",
        "temp_train_dir = os.path.join(train_dir, train_imagedb_dir_ls[0])\n",
        "temp_val_dir = os.path.join(validation_dir, validation_imagedb_dir_ls[0])\n",
        "\n",
        "train_imagedb_fnames = os.listdir(temp_train_dir)\n",
        "val_imagedb_fnames = os.listdir(temp_val_dir)\n",
        "\n",
        "print(train_imagedb_fnames[:10])\n",
        "print(val_imagedb_fnames[:10])"
      ],
      "metadata": {
        "colab": {
          "base_uri": "https://localhost:8080/"
        },
        "id": "Yalp7eSda-b1",
        "outputId": "3978eea7-3a44-4f69-fe94-59af7ad86ce8"
      },
      "execution_count": 5,
      "outputs": [
        {
          "output_type": "stream",
          "name": "stdout",
          "text": [
            "['00909_00000.ppm', '01541_00001.ppm', '00376_00000.ppm', '01365_00001.ppm', '01657_00002.ppm', '01541_00002.ppm', '01693_00002.ppm', '01496_00000.ppm', '00413_00002.ppm', '01365_00000.ppm']\n",
            "['02081_00001.ppm', '02081_00002.ppm', '02059_00001.ppm', '02140_00001.ppm', '00040_00001.ppm', '00040_00003.ppm', '00117_00000.ppm', '02059_00002.ppm', '02102_00002.ppm', '02140_00002.ppm']\n"
          ]
        }
      ]
    },
    {
      "cell_type": "code",
      "source": [
        "%matplotlib inline\n",
        "\n",
        "import matplotlib.image as mpimg\n",
        "import matplotlib.pyplot as plt\n",
        "\n",
        "# Parameters for our graph; we'll output images in a 4x2 configuration\n",
        "nrows = 2\n",
        "ncols = 4\n",
        "\n",
        "pic_index = 0 # Index for iterating over images"
      ],
      "metadata": {
        "id": "-6ySXPzewS7b"
      },
      "execution_count": 6,
      "outputs": []
    },
    {
      "cell_type": "code",
      "source": [
        "# Set up matplotlib fig, and size it to fit 4x4 pics\n",
        "fig = plt.gcf()\n",
        "fig.set_size_inches(ncols*4, nrows*4)\n",
        "\n",
        "pic_index+=8\n",
        "\n",
        "next_pix = [os.path.join(temp_train_dir, fname) \n",
        "                for fname in train_imagedb_fnames[ pic_index-8:pic_index] \n",
        "               ]\n",
        "\n",
        "for i, img_path in enumerate(next_pix):\n",
        "  # Set up subplot; subplot indices start at 1\n",
        "  sp = plt.subplot(nrows, ncols, i + 1)\n",
        "  sp.axis('Off') # Don't show axes (or gridlines)\n",
        "\n",
        "  img = mpimg.imread(img_path)\n",
        "  plt.imshow(img, cmap='gray')\n"
      ],
      "metadata": {
        "id": "DvHJMzj8wcoi"
      },
      "execution_count": null,
      "outputs": []
    },
    {
      "cell_type": "code",
      "source": [
        "from keras import models\n",
        "from keras import layers\n",
        "from keras import optimizers\n",
        "from keras.callbacks import ReduceLROnPlateau\n",
        "from keras import callbacks"
      ],
      "metadata": {
        "id": "ixitgeJjfFc6"
      },
      "execution_count": 8,
      "outputs": []
    },
    {
      "cell_type": "code",
      "source": [
        "import tensorflow as tf\n",
        "\n",
        "model = tf.keras.models.Sequential([\n",
        "  tf.keras.layers.Conv2D(32, (3, 3), strides=(1, 1), activation='relu', input_shape=(28, 28, 1), padding=\"same\"),\n",
        "  tf.keras.layers.BatchNormalization(),\n",
        "\n",
        "\n",
        "  tf.keras.layers.Conv2D(64, (3, 3), strides=(1, 1), activation='relu', padding=\"same\"),\n",
        "  tf.keras.layers.BatchNormalization(),\n",
        "  tf.keras.layers.Dropout(rate=0.25),\n",
        "\n",
        "  tf.keras.layers.Conv2D(128, (3, 3), strides=(1, 1), activation='relu',  padding=\"same\"),\n",
        "  tf.keras.layers.BatchNormalization(),\n",
        "  tf.keras.layers.MaxPooling2D(pool_size=(2, 2), strides=(2, 2)),\n",
        "  tf.keras.layers.Dropout(rate=0.5),\n",
        " \n",
        "\n",
        "  tf.keras.layers.Conv2D(256, (3, 3), strides=(1, 1), activation='relu', padding=\"same\"),\n",
        "  tf.keras.layers.BatchNormalization(),\n",
        "  tf.keras.layers.Dropout(rate=0.25),\n",
        "\n",
        "  tf.keras.layers.Flatten(),\n",
        " \n",
        "  tf.keras.layers.Dense(512, activation='relu'),\n",
        "  tf.keras.layers.BatchNormalization(),\n",
        "  tf.keras.layers.Dropout(rate=0.5),\n",
        "\n",
        "  tf.keras.layers.Dense(128, activation='relu'),\n",
        "  tf.keras.layers.BatchNormalization(),\n",
        "  tf.keras.layers.Dropout(rate=0.5),\n",
        "\n",
        "  tf.keras.layers.Dense(34, activation='softmax')\n",
        "])\n",
        "\n",
        "\n",
        "model.summary()"
      ],
      "metadata": {
        "colab": {
          "base_uri": "https://localhost:8080/"
        },
        "id": "h2P73sMA0A0O",
        "outputId": "39104248-0d36-4138-9cd2-2b2b80c7a2ba"
      },
      "execution_count": 9,
      "outputs": [
        {
          "output_type": "stream",
          "name": "stdout",
          "text": [
            "Model: \"sequential\"\n",
            "_________________________________________________________________\n",
            " Layer (type)                Output Shape              Param #   \n",
            "=================================================================\n",
            " conv2d (Conv2D)             (None, 28, 28, 32)        320       \n",
            "                                                                 \n",
            " batch_normalization (BatchN  (None, 28, 28, 32)       128       \n",
            " ormalization)                                                   \n",
            "                                                                 \n",
            " conv2d_1 (Conv2D)           (None, 28, 28, 64)        18496     \n",
            "                                                                 \n",
            " batch_normalization_1 (Batc  (None, 28, 28, 64)       256       \n",
            " hNormalization)                                                 \n",
            "                                                                 \n",
            " dropout (Dropout)           (None, 28, 28, 64)        0         \n",
            "                                                                 \n",
            " conv2d_2 (Conv2D)           (None, 28, 28, 128)       73856     \n",
            "                                                                 \n",
            " batch_normalization_2 (Batc  (None, 28, 28, 128)      512       \n",
            " hNormalization)                                                 \n",
            "                                                                 \n",
            " max_pooling2d (MaxPooling2D  (None, 14, 14, 128)      0         \n",
            " )                                                               \n",
            "                                                                 \n",
            " dropout_1 (Dropout)         (None, 14, 14, 128)       0         \n",
            "                                                                 \n",
            " conv2d_3 (Conv2D)           (None, 14, 14, 256)       295168    \n",
            "                                                                 \n",
            " batch_normalization_3 (Batc  (None, 14, 14, 256)      1024      \n",
            " hNormalization)                                                 \n",
            "                                                                 \n",
            " dropout_2 (Dropout)         (None, 14, 14, 256)       0         \n",
            "                                                                 \n",
            " flatten (Flatten)           (None, 50176)             0         \n",
            "                                                                 \n",
            " dense (Dense)               (None, 512)               25690624  \n",
            "                                                                 \n",
            " batch_normalization_4 (Batc  (None, 512)              2048      \n",
            " hNormalization)                                                 \n",
            "                                                                 \n",
            " dropout_3 (Dropout)         (None, 512)               0         \n",
            "                                                                 \n",
            " dense_1 (Dense)             (None, 128)               65664     \n",
            "                                                                 \n",
            " batch_normalization_5 (Batc  (None, 128)              512       \n",
            " hNormalization)                                                 \n",
            "                                                                 \n",
            " dropout_4 (Dropout)         (None, 128)               0         \n",
            "                                                                 \n",
            " dense_2 (Dense)             (None, 34)                4386      \n",
            "                                                                 \n",
            "=================================================================\n",
            "Total params: 26,152,994\n",
            "Trainable params: 26,150,754\n",
            "Non-trainable params: 2,240\n",
            "_________________________________________________________________\n"
          ]
        }
      ]
    },
    {
      "cell_type": "markdown",
      "source": [
        "#### Data Augmentation:"
      ],
      "metadata": {
        "id": "YmSD-PXXFLNI"
      }
    },
    {
      "cell_type": "code",
      "source": [
        "from tensorflow.keras.preprocessing.image import ImageDataGenerator\n",
        "\n",
        "train_datagen = ImageDataGenerator(\n",
        "    \n",
        "rescale = 1./255,\n",
        "rotation_range = 30,\n",
        "zoom_range = 0.15,\n",
        "width_shift_range = 0.2,\n",
        "height_shift_range = 0.2,\n",
        "shear_range = 0.15,\n",
        "horizontal_flip = True,\n",
        "fill_mode = \"nearest\")\n",
        "       \n",
        "val_datagen  = ImageDataGenerator(rescale = 1./255,)\n",
        "\n",
        "# --------------------\n",
        "# Flow training images in batches of 20 using train_datagen generator\n",
        "# --------------------\n",
        "train_generator = train_datagen.flow_from_directory(train_dir,\n",
        "                                                    batch_size = 64,\n",
        "                                                    class_mode = 'categorical',\n",
        "                                                    color_mode = 'grayscale',\n",
        "                                                    target_size = (28,28))     \n",
        "# --------------------\n",
        "# Flow validation images in batches of 20 using test_datagen generator\n",
        "# --------------------\n",
        "validation_generator =  val_datagen.flow_from_directory(validation_dir,\n",
        "                                                         batch_size = 64,\n",
        "                                                         class_mode = 'categorical',\n",
        "                                                         color_mode = 'grayscale',\n",
        "                                                         target_size = (28,28)) "
      ],
      "metadata": {
        "colab": {
          "base_uri": "https://localhost:8080/"
        },
        "id": "gJunJLj44v1z",
        "outputId": "d7aa61b6-9bf8-433a-a370-b2b2f974140e"
      },
      "execution_count": 10,
      "outputs": [
        {
          "output_type": "stream",
          "name": "stdout",
          "text": [
            "Found 3056 images belonging to 34 classes.\n",
            "Found 2149 images belonging to 34 classes.\n"
          ]
        }
      ]
    },
    {
      "cell_type": "code",
      "source": [
        "# Compile the model.\n",
        "\n",
        "model.compile(optimizer = tf.keras.optimizers.Adam(learning_rate = 0.0001),\n",
        "              loss = 'categorical_crossentropy',\n",
        "              metrics=['accuracy'])"
      ],
      "metadata": {
        "id": "o_t9MY23IWGv"
      },
      "execution_count": 11,
      "outputs": []
    },
    {
      "cell_type": "markdown",
      "source": [
        "#### Callbacks:"
      ],
      "metadata": {
        "id": "Bvt6AI-RQVo4"
      }
    },
    {
      "cell_type": "code",
      "source": [
        "# Train the model\n",
        "\n",
        "import datetime\n",
        "\n",
        "#call = callbacks.ModelCheckpoint(f'best_weights.hdf5', monitor = 'val_loss', mode = 'min', verbose = 1, save_best_only = True)\n",
        "#early = callbacks.EarlyStopping(monitor = 'val_loss', min_delta = 0, patience = 10, verbose = 1, mode = 'auto')\n",
        "\n",
        "\n",
        "callbacks = []\n",
        "\n",
        "save_best_callback = tf.keras.callbacks.ModelCheckpoint(f'best_weights.hdf5', save_best_only = True, verbose = 1)\n",
        "callbacks.append(save_best_callback)\n",
        "\n",
        "early_stop_callback = tf.keras.callbacks.EarlyStopping(patience = 10, restore_best_weights = True, verbose = 1)\n",
        "callbacks.append(early_stop_callback)"
      ],
      "metadata": {
        "id": "L94oJ3vDJkmd"
      },
      "execution_count": 12,
      "outputs": []
    },
    {
      "cell_type": "code",
      "source": [
        "# Train the model\n",
        "\n",
        "history = model.fit(\n",
        "train_generator,\n",
        "validation_data = validation_generator,\n",
        "steps_per_epoch = train_generator.samples/train_generator.batch_size,\n",
        "validation_steps = validation_generator.samples/validation_generator.batch_size,\n",
        "epochs = 150,\n",
        "verbose = 1,\n",
        "callbacks = callbacks\n",
        ")"
      ],
      "metadata": {
        "id": "RxFyT6KmLbRN"
      },
      "execution_count": null,
      "outputs": []
    },
    {
      "cell_type": "markdown",
      "source": [
        "#### Plot Results:"
      ],
      "metadata": {
        "id": "VZmmvfK3a_xL"
      }
    },
    {
      "cell_type": "code",
      "source": [
        "from matplotlib import figure\n",
        "import matplotlib.pyplot as plt\n",
        "\n",
        "# Plot the loss\n",
        "\n",
        "plt.title('Loss Values')\n",
        "y1 = plt.plot(history.history['loss'], label='train loss')\n",
        "y2 = plt.plot(history.history['val_loss'], label='val loss')\n",
        "plt.grid()\n",
        "plt.legend(['train loss','val loss'])\n",
        "plt.savefig('LossValues_loss')\n",
        "plt.show()\n",
        "\n",
        "# Plot the accuracy\n",
        "\n",
        "plt.title('Accurancy Values')\n",
        "plt.plot(history.history['accuracy'], label='train acc')\n",
        "plt.plot(history.history['val_accuracy'], label='val acc')\n",
        "plt.grid()\n",
        "plt.legend(['train acc','val acc'])\n",
        "plt.savefig('AccVal_acc')\n",
        "plt.show()\n"
      ],
      "metadata": {
        "colab": {
          "base_uri": "https://localhost:8080/",
          "height": 545
        },
        "id": "NXRWKY33bFso",
        "outputId": "a3ead1fe-2873-42e5-8531-5946185fab32"
      },
      "execution_count": 44,
      "outputs": [
        {
          "output_type": "display_data",
          "data": {
            "image/png": "[encoded data removed]",
            "text/plain": [
              "<Figure size 432x288 with 1 Axes>"
            ]
          },
          "metadata": {
            "needs_background": "light"
          }
        },
        {
          "output_type": "display_data",
          "data": {
            "image/png": "[encoded data removed]",
            "text/plain": [
              "<Figure size 432x288 with 1 Axes>"
            ]
          },
          "metadata": {
            "needs_background": "light"
          }
        }
      ]
    },
    {
      "cell_type": "markdown",
      "source": [
        "#### Pre-trained architectural model:"
      ],
      "metadata": {
        "id": "H9WquTP9X_RX"
      }
    },
    {
      "cell_type": "code",
      "source": [
        "# Load the VGG model\n",
        "\n",
        "from keras.applications import vgg16\n",
        "\n",
        "vgg_conv = vgg16.VGG16(\n",
        "weights='imagenet', \n",
        "include_top=False, \n",
        "input_shape=(256, 256, 3))"
      ],
      "metadata": {
        "id": "4tGzX67NYsEn"
      },
      "execution_count": null,
      "outputs": []
    },
    {
      "cell_type": "code",
      "source": [
        "# Freeze the layers except the last 4 layers\n",
        "\n",
        "for layer in vgg_conv.layers[:-4]:\n",
        "    layer.trainable = False\n",
        " \n",
        "# Check the trainable status of the individual layers\n",
        "\n",
        "for layer in vgg_conv.layers:\n",
        "    print(layer, layer.trainable)"
      ],
      "metadata": {
        "id": "Hy4m9oqNZGpl"
      },
      "execution_count": null,
      "outputs": []
    },
    {
      "cell_type": "code",
      "source": [
        "from keras import models\n",
        "from keras import layers\n",
        "from keras import optimizers\n",
        " \n",
        "# Create the model\n",
        "model = models.Sequential()\n",
        " \n",
        "# Add the vgg convolutional base model\n",
        "model.add(vgg_conv)\n",
        " \n",
        "# Add new layers\n",
        "model.add(layers.Flatten())\n",
        "model.add(layers.Dense(1024, activation='relu'))\n",
        "model.add(layers.Dropout(0.5))\n",
        "model.add(layers.Dense(3, activation='softmax'))\n",
        " \n",
        "# Show a summary of the model. Check the number of trainable parameters\n",
        "model.summary()"
      ],
      "metadata": {
        "id": "cDtOsSUkZ8c3"
      },
      "execution_count": null,
      "outputs": []
    },
    {
      "cell_type": "code",
      "source": [
        "# Compile the model\n",
        "\n",
        "model.compile(optimizer = tf.keras.optimizers.Adam(learning_rate = 0.0001),\n",
        "              loss = 'categorical_crossentropy',\n",
        "              metrics=['accuracy'])"
      ],
      "metadata": {
        "id": "2T9WYs51anQE"
      },
      "execution_count": null,
      "outputs": []
    },
    {
      "cell_type": "code",
      "source": [
        "# Train the model\n",
        "\n",
        "history = model.fit(\n",
        "train_generator,\n",
        "validation_data = validation_generator,\n",
        "steps_per_epoch = train_generator.samples/train_generator.batch_size,\n",
        "validation_steps = validation_generator.samples/validation_generator.batch_size,\n",
        "epochs = 150,\n",
        "verbose = 1,\n",
        "callbacks = callbacks\n",
        ")"
      ],
      "metadata": {
        "id": "X9AOkPf-atMG"
      },
      "execution_count": null,
      "outputs": []
    },
    {
      "cell_type": "code",
      "source": [
        "# Save the model\n",
        "model.save('small_last4.h5')"
      ],
      "metadata": {
        "id": "sTi_SAPyaWaL"
      },
      "execution_count": null,
      "outputs": []
    }
  ]
}